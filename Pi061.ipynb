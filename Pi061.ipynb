{
  "nbformat": 4,
  "nbformat_minor": 0,
  "metadata": {
    "colab": {
      "provenance": [],
      "authorship_tag": "ABX9TyPPQajg+nROLgipUdgW+hpw",
      "include_colab_link": true
    },
    "kernelspec": {
      "name": "python3",
      "display_name": "Python 3"
    },
    "language_info": {
      "name": "python"
    }
  },
  "cells": [
    {
      "cell_type": "markdown",
      "metadata": {
        "id": "view-in-github",
        "colab_type": "text"
      },
      "source": [
        "<a href=\"https://colab.research.google.com/github/YuuhaNi/othello2023/blob/main/Pi061.ipynb\" target=\"_parent\"><img src=\"https://colab.research.google.com/assets/colab-badge.svg\" alt=\"Open In Colab\"/></a>"
      ]
    },
    {
      "cell_type": "code",
      "execution_count": null,
      "metadata": {
        "id": "cSY5oN4CxbDc"
      },
      "outputs": [],
      "source": [
        "class NegaAlphaOthelloAI(OthelloAI):\n",
        "    def __init__(self, face, name, depth=7):\n",
        "        super().__init__(face, name)\n",
        "        self.depth = depth\n",
        "\n",
        "    def move(self, board: np.array, piece: int) -> tuple[int, int]:\n",
        "        _, best_move = self.negamax(board, piece, self.depth, -float('inf'), float('inf'))\n",
        "        return best_move\n",
        "\n",
        "    def negamax(self, board, piece, depth, alpha, beta):\n",
        "        if depth == 0 or not get_valid_moves(board, piece):\n",
        "            return self.evaluate(board, piece), None\n",
        "\n",
        "        max_eval = -float('inf')\n",
        "        best_move = None\n",
        "\n",
        "        for move in get_valid_moves(board, piece):\n",
        "            new_board = board.copy()\n",
        "            new_board[move] = piece\n",
        "            flipped_stones = flip_stones(new_board, *move, piece)\n",
        "            for r, c in flipped_stones:\n",
        "                new_board[r, c] = piece\n",
        "\n",
        "            eval_, _ = self.negamax(new_board, -piece, depth - 1, -beta, -alpha)\n",
        "            eval_ = -eval_\n",
        "\n",
        "            if eval_ > max_eval:\n",
        "                max_eval = eval_\n",
        "                best_move = move\n",
        "\n",
        "            alpha = max(alpha, eval_)\n",
        "            if alpha >= beta:\n",
        "                break\n",
        "\n",
        "        return max_eval, best_move\n",
        "\n",
        "    def evaluate(self, board, piece):\n",
        "        # Implement your board evaluation function\n",
        "        # This is a placeholder; you should replace it with your evaluation logic\n",
        "        return count_board(board, piece) - count_board(board, -piece)\n",
        "\n",
        "\n"
      ]
    }
  ]
}